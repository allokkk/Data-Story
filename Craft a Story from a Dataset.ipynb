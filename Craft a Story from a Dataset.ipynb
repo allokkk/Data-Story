{
 "cells": [
  {
   "cell_type": "code",
   "execution_count": 4,
   "id": "3f567a35",
   "metadata": {},
   "outputs": [
    {
     "name": "stdout",
     "output_type": "stream",
     "text": [
      "<class 'pandas.core.frame.DataFrame'>\n",
      "RangeIndex: 418 entries, 0 to 417\n",
      "Data columns (total 12 columns):\n",
      " #   Column       Non-Null Count  Dtype  \n",
      "---  ------       --------------  -----  \n",
      " 0   PassengerId  418 non-null    int64  \n",
      " 1   Survived     418 non-null    int64  \n",
      " 2   Pclass       418 non-null    int64  \n",
      " 3   Name         418 non-null    object \n",
      " 4   Sex          418 non-null    object \n",
      " 5   Age          332 non-null    float64\n",
      " 6   SibSp        418 non-null    int64  \n",
      " 7   Parch        418 non-null    int64  \n",
      " 8   Ticket       418 non-null    object \n",
      " 9   Fare         417 non-null    float64\n",
      " 10  Cabin        91 non-null     object \n",
      " 11  Embarked     418 non-null    object \n",
      "dtypes: float64(2), int64(5), object(5)\n",
      "memory usage: 39.3+ KB\n"
     ]
    },
    {
     "data": {
      "text/plain": [
       "(418, 12)"
      ]
     },
     "execution_count": 4,
     "metadata": {},
     "output_type": "execute_result"
    }
   ],
   "source": [
    "import pandas as pd\n",
    "import numpy as np\n",
    "import matplotlib.pyplot as plt\n",
    "import seaborn as sns\n",
    "import logging\n",
    "logging.getLogger().setLevel(logging.CRITICAL)\n",
    "from warnings import simplefilter\n",
    "simplefilter(action = 'ignore', category = FutureWarning)\n",
    "sns.set()\n",
    "#import the data\n",
    "data = pd.read_csv('archive/tested.csv')\n",
    "#explore the data\n",
    "data.head()\n",
    "data.info()\n",
    "data.shape"
   ]
  },
  {
   "cell_type": "code",
   "execution_count": 5,
   "id": "1ef65755",
   "metadata": {},
   "outputs": [
    {
     "name": "stdout",
     "output_type": "stream",
     "text": [
      "<class 'pandas.core.frame.DataFrame'>\n",
      "RangeIndex: 418 entries, 0 to 417\n",
      "Data columns (total 12 columns):\n",
      " #   Column       Non-Null Count  Dtype  \n",
      "---  ------       --------------  -----  \n",
      " 0   PassengerId  418 non-null    int64  \n",
      " 1   Survived     418 non-null    int64  \n",
      " 2   Pclass       418 non-null    int64  \n",
      " 3   Name         418 non-null    object \n",
      " 4   Sex          418 non-null    object \n",
      " 5   Age          332 non-null    float64\n",
      " 6   SibSp        418 non-null    int64  \n",
      " 7   Parch        418 non-null    int64  \n",
      " 8   Ticket       418 non-null    object \n",
      " 9   Fare         417 non-null    float64\n",
      " 10  Cabin        91 non-null     object \n",
      " 11  Embarked     418 non-null    object \n",
      "dtypes: float64(2), int64(5), object(5)\n",
      "memory usage: 39.3+ KB\n"
     ]
    },
    {
     "data": {
      "text/plain": [
       "(418, 11)"
      ]
     },
     "execution_count": 5,
     "metadata": {},
     "output_type": "execute_result"
    }
   ],
   "source": [
    "#explore the data\n",
    "data.head()\n",
    "data.info()\n",
    "data.shape\n",
    "#drop the Cabin column because the nil vacancies is more than 60%\n",
    "\n",
    "data = data.drop('Cabin', axis = 1)\n",
    "data.shape"
   ]
  },
  {
   "cell_type": "code",
   "execution_count": 14,
   "id": "3023edc4",
   "metadata": {},
   "outputs": [
    {
     "name": "stdout",
     "output_type": "stream",
     "text": [
      "male      266\n",
      "female    152\n",
      "Name: Sex, dtype: int64\n",
      "Percentage of male and female population are:\n",
      "male      63.636364\n",
      "female    36.363636\n",
      "Name: Sex, dtype: float64\n"
     ]
    },
    {
     "data": {
      "image/png": "[encoded data removed]",
      "text/plain": [
       "<Figure size 432x288 with 1 Axes>"
      ]
     },
     "metadata": {},
     "output_type": "display_data"
    }
   ],
   "source": [
    "pop_val = data['Sex'].value_counts()\n",
    "print(pop_val)\n",
    "percentages= (pop_val/(pop_val.sum())) *100\n",
    "print(\"Percentage of male and female population are:\")\n",
    "print(percentages)\n",
    "percentages.plot.pie(subplots = True,title=\"Percentage of men and women onboard\")\n",
    "plt.savefig('The percentageof male to female onboard.png')\n",
    "plt.show()\n"
   ]
  },
  {
   "cell_type": "markdown",
   "id": "945aa4d2",
   "metadata": {},
   "source": [
    "### The percentage of male on board was 64.76% and that of the female is 35.24%"
   ]
  },
  {
   "cell_type": "code",
   "execution_count": 25,
   "id": "8dbbeb4b",
   "metadata": {},
   "outputs": [
    {
     "name": "stdout",
     "output_type": "stream",
     "text": [
      "        Survived\n",
      "Sex             \n",
      "female         1\n",
      "male           0\n",
      "        Survived\n",
      "Sex             \n",
      "female     100.0\n",
      "male         0.0\n"
     ]
    },
    {
     "data": {
      "image/png": "[encoded data removed]",
      "text/plain": [
       "<Figure size 432x288 with 1 Axes>"
      ]
     },
     "metadata": {},
     "output_type": "display_data"
    }
   ],
   "source": [
    "surv_gen = data.pivot_table(index = 'Sex', values = 'Survived')\n",
    "print(surv_gen)\n",
    "Percentage_of_survival = (surv_gen/(surv_gen.sum())) *100\n",
    "print(Percentage_of_survival)\n",
    "Percentage_of_survival.plot.pie(subplots = True)\n",
    "plt.savefig('percentage of survival relative to gender.png')"
   ]
  },
  {
   "cell_type": "markdown",
   "id": "0ee84299",
   "metadata": {},
   "source": [
    "## Southampton was the boarding city of most prople"
   ]
  },
  {
   "cell_type": "code",
   "execution_count": 38,
   "id": "5a1bfdfd",
   "metadata": {},
   "outputs": [
    {
     "name": "stdout",
     "output_type": "stream",
     "text": [
      "Embarked\n",
      "C    102\n",
      "Q     46\n",
      "S    270\n",
      "dtype: int64\n"
     ]
    },
    {
     "data": {
      "image/png": "[encoded data removed]",
      "text/plain": [
       "<Figure size 432x288 with 1 Axes>"
      ]
     },
     "metadata": {},
     "output_type": "display_data"
    }
   ],
   "source": [
    "#where people boarded the most\n",
    "\n",
    "pop_boarding_loc = data.groupby('Embarked').size()\n",
    "print(pop_boarding_loc)\n",
    "pop_boarding_loc.plot.bar()\n",
    "plt.savefig('size of population where people boarded.png')"
   ]
  },
  {
   "cell_type": "markdown",
   "id": "e41d6c32",
   "metadata": {},
   "source": [
    "### Majority boarded at Southampton, by a staggering percentage of 86%,  Southampton people boaded the most."
   ]
  },
  {
   "cell_type": "code",
   "execution_count": null,
   "id": "618f2556",
   "metadata": {},
   "outputs": [],
   "source": []
  },
  {
   "cell_type": "markdown",
   "id": "f9b03944",
   "metadata": {},
   "source": [
    "## Now checking for the class with number of population"
   ]
  },
  {
   "cell_type": "code",
   "execution_count": 27,
   "id": "3f31a809",
   "metadata": {},
   "outputs": [
    {
     "name": "stdout",
     "output_type": "stream",
     "text": [
      "3    218\n",
      "1    107\n",
      "2     93\n",
      "Name: Pclass, dtype: int64\n",
      "3    52.153110\n",
      "1    25.598086\n",
      "2    22.248804\n",
      "Name: Pclass, dtype: float64\n"
     ]
    },
    {
     "data": {
      "image/png": "[encoded data removed]",
      "text/plain": [
       "<Figure size 432x288 with 1 Axes>"
      ]
     },
     "metadata": {},
     "output_type": "display_data"
    }
   ],
   "source": [
    "pop_pclass = data['Pclass'].value_counts()\n",
    "print(pop_pclass)\n",
    "pop_pclass_percent = (pop_pclass/(pop_pclass.sum())) *100\n",
    "print(pop_pclass_percent)\n",
    "pop_pclass_percent.plot.barh()\n",
    "plt.savefig('class population percentage.png')"
   ]
  },
  {
   "cell_type": "markdown",
   "id": "b40cbcc7",
   "metadata": {},
   "source": [
    "### Heigest number of population brelong to class 3"
   ]
  },
  {
   "cell_type": "markdown",
   "id": "e2fee8d5",
   "metadata": {},
   "source": [
    "### The third class had 55.106622 % , the second class had 20.650954% while the first class had 24.242424% of the people on board."
   ]
  },
  {
   "cell_type": "markdown",
   "id": "6de82bcc",
   "metadata": {},
   "source": [
    "## When it came to survival, the third class had the lowest rate"
   ]
  },
  {
   "cell_type": "code",
   "execution_count": 32,
   "id": "e4534ce7",
   "metadata": {},
   "outputs": [
    {
     "name": "stdout",
     "output_type": "stream",
     "text": [
      "        Survived\n",
      "Pclass          \n",
      "1       0.467290\n",
      "2       0.322581\n",
      "3       0.330275\n",
      "         Survived\n",
      "Pclass           \n",
      "1       41.716873\n",
      "2       28.798100\n",
      "3       29.485027\n"
     ]
    },
    {
     "data": {
      "image/png": "[encoded data removed]",
      "text/plain": [
       "<Figure size 432x288 with 1 Axes>"
      ]
     },
     "metadata": {},
     "output_type": "display_data"
    }
   ],
   "source": [
    "#survival rate according to the cabin class.\n",
    "\n",
    "surv_pclass = data.pivot_table(index = 'Pclass', values ='Survived')\n",
    "print(surv_pclass)\n",
    "surv_pclass_percent = (surv_pclass/(surv_pclass.sum())) *100\n",
    "print(surv_pclass_percent)\n",
    "surv_pclass_percent.plot.barh(title=\"The observed the survival rate per class\")\n",
    "plt.savefig('percentage of survival per class.png')"
   ]
  },
  {
   "cell_type": "markdown",
   "id": "14dd7e16",
   "metadata": {},
   "source": [
    "### The first class had the highest rate of survival while the third class had the lowest"
   ]
  },
  {
   "cell_type": "code",
   "execution_count": null,
   "id": "358e15d8",
   "metadata": {},
   "outputs": [],
   "source": []
  }
 ],
 "metadata": {
  "kernelspec": {
   "display_name": "Python 3 (ipykernel)",
   "language": "python",
   "name": "python3"
  },
  "language_info": {
   "codemirror_mode": {
    "name": "ipython",
    "version": 3
   },
   "file_extension": ".py",
   "mimetype": "text/x-python",
   "name": "python",
   "nbconvert_exporter": "python",
   "pygments_lexer": "ipython3",
   "version": "3.9.12"
  }
 },
 "nbformat": 4,
 "nbformat_minor": 5
}
